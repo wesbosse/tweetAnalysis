{
 "cells": [
  {
   "cell_type": "markdown",
   "metadata": {},
   "source": [
    "## Feature Extraction and Exploratory Modeling\n",
    "\n",
    "\n",
    "Here I will use the info gained during EDA to extract some potentially helpful features and create a rough-draft model.\n",
    "\n",
    "---\n",
    "\n",
    "**Imports**"
   ]
  },
  {
   "cell_type": "code",
   "execution_count": 19,
   "metadata": {},
   "outputs": [],
   "source": [
    "# the classics\n",
    "import pandas as pd\n",
    "import numpy as np\n",
    "import scipy.sparse as sparse\n",
    "import matplotlib.pyplot as plt\n",
    "%matplotlib inline\n",
    "\n",
    "# some specific data manipulation tools from sklearn\n",
    "from sklearn.model_selection import train_test_split\n",
    "from sklearn.feature_extraction.text import CountVectorizer\n",
    "\n",
    "# pipeline and gridsearch for tuning\n",
    "from sklearn.model_selection import GridSearchCV\n",
    "from sklearn.pipeline import Pipeline, FeatureUnion\n",
    "from sklearn.base import TransformerMixin, BaseEstimator\n",
    "\n",
    "# a few models to try at first\n",
    "# from sklearn.naive_bayes import MultinomialNB\n",
    "from sklearn.linear_model import LogisticRegression\n",
    "from sklearn.tree import DecisionTreeClassifier\n",
    "from sklearn.ensemble import RandomForestClassifier, ExtraTreesClassifier, AdaBoostClassifier\n",
    "\n",
    "# model evaluation tools\n",
    "from sklearn.metrics import confusion_matrix, roc_auc_score, classification_report, make_scorer, recall_score, fbeta_score, accuracy_score\n",
    "\n",
    "# natural language processing tools\n",
    "from nltk.stem import SnowballStemmer, WordNetLemmatizer\n",
    "from nltk.sentiment.vader import SentimentIntensityAnalyzer;\n",
    "\n",
    "from wbcustom.roc import plot as roc\n",
    "from wbcustom.feature_extraction import FeatureExtraction\n",
    "from wbcustom.nsfw_cleaner import NsfwCleaner"
   ]
  },
  {
   "cell_type": "markdown",
   "metadata": {},
   "source": [
    "**Import the Data and drop nulls**"
   ]
  },
  {
   "cell_type": "code",
   "execution_count": 2,
   "metadata": {},
   "outputs": [],
   "source": [
    "# read in all of the tweets\n",
    "tweets = pd.read_csv('./assets/tweets.csv')\n",
    "\n",
    "# drop tweets with any null values\n",
    "tweets = tweets.dropna().reset_index(drop=True)"
   ]
  },
  {
   "cell_type": "markdown",
   "metadata": {},
   "source": [
    "**Under Sample**"
   ]
  },
  {
   "cell_type": "markdown",
   "metadata": {},
   "source": [
    "In an attempt to tune for recall without increasing variance, we will undersample the majority class (non-questionable) so that our positive class composition moves from 13% to ~50%"
   ]
  },
  {
   "cell_type": "code",
   "execution_count": 3,
   "metadata": {},
   "outputs": [],
   "source": [
    "# split tweets by class\n",
    "tweets0 = tweets[tweets['questionable_content'] == 0]\n",
    "tweets1 = tweets[tweets['questionable_content'] == 1]\n",
    "\n",
    "# from ~19k to 2k samples of not questionable tweets\n",
    "tweets0 = tweets0.sample(n=2000, random_state=23)\n",
    "\n",
    "tweets_rs = pd.concat(objs=[tweets0, tweets1])"
   ]
  },
  {
   "cell_type": "code",
   "execution_count": 4,
   "metadata": {},
   "outputs": [],
   "source": [
    "# set X and y\n",
    "X = tweets_rs['text']\n",
    "y = tweets_rs['questionable_content']"
   ]
  },
  {
   "cell_type": "markdown",
   "metadata": {},
   "source": [
    "**Lemmatize the Data**\n",
    "\n",
    "---\n",
    "\n",
    "This decision was made out of sake of eaze. We don't care as much about context/usage, and more about the core words. More investigation should be done on stemming/lemmatizing/etc. with slang. \n",
    "\n",
    "POS tagging should be used for better lemmatization"
   ]
  },
  {
   "cell_type": "code",
   "execution_count": 5,
   "metadata": {},
   "outputs": [],
   "source": [
    "# use NLTK word net lemmatizer\n",
    "lemmatizer = WordNetLemmatizer()\n",
    "X_lem = [\n",
    "    ' '.join([lemmatizer.lemmatize(word) for word in x.split(' ')]) for x in X\n",
    "]"
   ]
  },
  {
   "cell_type": "markdown",
   "metadata": {},
   "source": [
    "**Feature Extraction**"
   ]
  },
  {
   "cell_type": "markdown",
   "metadata": {},
   "source": [
    "Function to detect suspect words given a corpus and a reference list. I think a lot of the model's power could come from different category scores that could be used in interaction terms. For  the sake of time, I ended up copying the list at [BannedWordList](http://www.bannedwordlist.com)"
   ]
  },
  {
   "cell_type": "code",
   "execution_count": 6,
   "metadata": {},
   "outputs": [],
   "source": [
    "# define a list of NSFW words using feature improtances and www.bannedwordlist.com\n",
    "# nsfw = ['anal', 'anus', 'arse', 'ass', 'ballsack', 'balls', 'bastard', 'bitch', 'bitches', 'biatch',\n",
    "#                      'blowjob', 'boner', 'boob', 'butt', 'buttplug',\n",
    "#                      'clitoris', 'cock', 'coon', 'crap', 'cunt', 'damn', 'dick', 'dildo', 'dyke', 'fag', 'faggot', 'feck',\n",
    "#                      'fellate', 'fellatio', 'felching', 'fuck', 'fucking', 'fudgepacker', 'fudge packer', 'flange',\n",
    "#                      'gay', 'Goddamn', 'God damn', 'hell', 'hoe', 'hoes', 'homo', 'jerk', 'jizz', 'knobend', 'knob end', 'labia',\n",
    "#                      'lmfao', 'muff', 'nigger', 'niggers', 'nigga', 'niggah', 'niggas', 'niggaz', 'ngga', 'penis', 'piss', 'poop', 'prick', 'pube', 'pussy', 'pussi',\n",
    "#                      'queer', 'retard', 'retarded', 'scrotum', 'shit', 's hit', 'sh1t', 'slut', 'sluts', 'smegma', 'spunk', 'tit', 'tosser',\n",
    "#                      'turd', 'twat', 'vagina', 'wank', 'whore']\n",
    "\n",
    "# words taken from https://github.com/LDNOOBW/List-of-Dirty-Naughty-Obscene-and-Otherwise-Bad-Words/\n",
    "# I liked this list because it contains a larger variety of phrases\n",
    "nsfw = ['2g1c', '2 girls 1 cup', 'acrotomophilia', 'alabama hot pocket', 'alaskan pipeline', 'anal', 'anilingus', 'anus', 'apeshit', 'arsehole', 'ass', 'asshole', 'assmunch', 'auto erotic', 'autoerotic', 'babeland', 'baby batter', 'baby juice', 'ball gag', 'ball gravy', 'ball kicking', 'ball licking', 'ball sack', 'ball sucking', 'bangbros', 'bareback', 'barely legal', 'barenaked', 'bastard', 'bastardo', 'bastinado', 'bbw', 'bdsm', 'beaner', 'beaners', 'beaver cleaver', 'beaver lips', 'bestiality', 'big black', 'big breasts', 'big knockers', 'big tits', 'bimbos', 'birdlock', 'bitch', 'bitches', 'black cock', 'blonde action', 'blonde on blonde action', 'blowjob', 'blow job', 'blow your load', 'blue waffle', 'blumpkin', 'bollocks', 'bondage', 'boner', 'boob', 'boobs', 'booty call', 'brown showers', 'brunette action', 'bukkake', 'bulldyke', 'bullet vibe', 'bullshit', 'bung hole', 'bunghole', 'busty', 'butt', 'buttcheeks', 'butthole', 'camel toe', 'camgirl', 'camslut', 'camwhore', 'carpet muncher', 'carpetmuncher', 'chocolate rosebuds', 'circlejerk', 'cleveland steamer', 'clit', 'clitoris', 'clover clamps', 'clusterfuck', 'cock', 'cocks', 'coprolagnia', 'coprophilia', 'cornhole', 'coon', 'coons', 'creampie', 'cum', 'cumming', 'cunnilingus', 'cunt', 'darkie', 'date rape', 'daterape', 'deep throat', 'deepthroat', 'dendrophilia', 'dick', 'dildo', 'dingleberry', 'dingleberries', 'dirty pillows', 'dirty sanchez', 'doggie style', 'doggiestyle', 'doggy style', 'doggystyle', 'dog style', 'dolcett', 'domination', 'dominatrix', 'dommes', 'donkey punch', 'double dong', 'double penetration', 'dp action', 'dry hump', 'dvda', 'eat my ass', 'ecchi', 'ejaculation', 'erotic', 'erotism', 'escort', 'eunuch', 'faggot', 'fecal', 'felch', 'fellatio', 'feltch', 'female squirting', 'femdom', 'figging', 'fingerbang', 'fingering', 'fisting', 'foot fetish', 'footjob', 'frotting', 'fuck', 'fuck buttons', 'fuckin', 'fucking', 'fucktards', 'fudge packer', 'fudgepacker', 'futanari', 'gang bang', 'gay sex', 'genitals', 'giant cock', 'girl on', 'girl on top', 'girls gone wild', 'goatcx', 'goatse', 'god damn', 'gokkun', 'golden shower', 'goodpoop', 'goo girl', 'goregasm', 'grope', 'group sex', 'g-spot', 'guro', 'hand job', 'handjob', 'hard core', 'hardcore', 'hentai', 'homoerotic', 'honkey', 'hooker', 'hot carl', 'hot chick', 'how to kill', 'how to murder', 'huge fat', 'humping', 'incest', 'intercourse', 'jack off', 'jail bait', 'jailbait', 'jelly donut', 'jerk off', 'jigaboo', 'jiggaboo', 'jiggerboo', 'jizz', 'juggs', 'kike', 'kinbaku', 'kinkster', 'kinky', 'knobbing', 'leather restraint', 'leather straight jacket', 'lemon party', 'lolita', 'lovemaking', 'make me come', 'male squirting', 'masturbate', 'menage a trois', 'milf', 'missionary position', 'motherfucker', 'mound of venus', 'mr hands', 'muff diver', 'muffdiving', 'nambla', 'nawashi', 'negro', 'neonazi', 'nigga', 'niggers', 'niggah', 'niggas', 'niggaz', 'ngga', 'nigger', 'nig nog', 'nimphomania', 'nipple', 'nipples', 'nsfw images', 'nude', 'nudity', 'nympho', 'nymphomania', 'octopussy', 'omorashi', 'one cup two girls', 'one guy one jar', 'orgasm', 'orgy', 'paedophile', 'paki', 'panties', 'panty', 'pedobear', 'pedophile', 'pegging', 'penis', 'phone sex', 'piece of shit', 'pissing', 'piss pig', 'pisspig', 'playboy', 'pleasure chest', 'pole smoker', 'ponyplay', 'poof', 'poon', 'poontang', 'punany', 'poop chute', 'poopchute', 'porn', 'porno', 'pornography', 'prince albert piercing', 'pthc', 'pubes', 'pussy', 'queaf', 'queef', 'quim', 'raghead', 'raging boner', 'rape', 'raping', 'rapist', 'rectum', 'reverse cowgirl', 'rimjob', 'rimming', 'rosy palm', 'rosy palm and her 5 sisters', 'rusty trombone', 'sadism', 'santorum', 'scat', 'schlong', 'scissoring', 'semen', 'sex', 'sexo', 'sexy', 'shaved beaver', 'shaved pussy', 'shemale', 'shibari', 'shit', 'shitblimp', 'shitty', 'shota', 'shrimping', 'skeet', 'slanteye', 'slut', 's&m', 'smut', 'snatch', 'snowballing', 'sodomize', 'sodomy', 'spic', 'splooge', 'splooge moose', 'spooge', 'spread legs', 'spunk', 'strap on', 'strapon', 'strappado', 'strip club', 'style doggy', 'suck', 'sucks', 'suicide girls', 'sultry women', 'swastika', 'swinger', 'tainted love', 'taste my', 'tea bagging', 'threesome', 'throating', 'tied up', 'tight white', 'tit', 'tits', 'titties', 'titty', 'tongue in a', 'topless', 'tosser', 'towelhead', 'tranny', 'tribadism', 'tub girl', 'tubgirl', 'tushy', 'twat', 'twink', 'twinkie', 'two girls one cup', 'undressing', 'upskirt', 'urethra play', 'urophilia', 'vagina', 'venus mound', 'vibrator', 'violet wand', 'vorarephilia', 'voyeur', 'vulva', 'wank', 'wetback', 'wet dream', 'white power', 'wrapping men', 'wrinkled starfish', 'xx', 'xxx', 'yaoi', 'yellow showers', 'yiffy', 'zoophilia', '🖕']\n",
    "\n",
    "# empty list used to test effect of under sampling\n",
    "# nsfw = []"
   ]
  },
  {
   "cell_type": "code",
   "execution_count": 7,
   "metadata": {},
   "outputs": [],
   "source": [
    "# TTS\n",
    "X_train, X_test, y_train, y_test = train_test_split(X_lem, y, test_size = .25, stratify = y, random_state = 23)\n",
    "\n",
    "# fresh vectorizer instance\n",
    "cvec = CountVectorizer()\n",
    "\n",
    "X_train_cvec = cvec.fit_transform(X_train)\n",
    "X_test_cvec = cvec.transform(X_test)"
   ]
  },
  {
   "cell_type": "markdown",
   "metadata": {},
   "source": [
    "**Lets make a nsfw mask for the df**  \n",
    "  \n",
    "**THIS WOULD BE MUCH FASTER AS A PREPROCCESSING STEP**"
   ]
  },
  {
   "cell_type": "code",
   "execution_count": 8,
   "metadata": {},
   "outputs": [
    {
     "name": "stdout",
     "output_type": "stream",
     "text": [
      "Looping non-zero entries\n",
      "Generating mask\n"
     ]
    }
   ],
   "source": [
    "# function for detecting presence of nsfw words\n",
    "def nsfw_consolidation(vectorizer = cvec, sparse_matrix = X_train_cvec, nsfw = nsfw):\n",
    "    # names of columns\n",
    "    feature_names = vectorizer.get_feature_names()\n",
    "    # locations of non-zero entries\n",
    "    cx = sparse_matrix.tocoo()\n",
    "    \n",
    "    # blank return containers\n",
    "    nsfw_columns = set()\n",
    "    rows_to_filter = set()\n",
    "    mask = [False]*sparse_matrix.shape[0]\n",
    "    \n",
    "    print('Looping non-zero entries')\n",
    "    # column detector\n",
    "    for i, column in enumerate(feature_names):\n",
    "        [nsfw_columns.add(i) for word in nsfw if (word in column)]\n",
    "    \n",
    "    # row detector\n",
    "    for nsfw_word in nsfw_columns:\n",
    "        [rows_to_filter.add(i) for i, j in zip(cx.row, cx.col) if (j == nsfw_word)]\n",
    "    \n",
    "    print('Generating mask')\n",
    "    \n",
    "    # mask generator\n",
    "    for row in rows_to_filter:\n",
    "        mask[row] = True\n",
    "    \n",
    "    return (nsfw_columns, rows_to_filter, mask)\n",
    "        \n",
    "(nsfw_columns, rows_to_filter, nsfw_mask) = nsfw_consolidation(cvec, cvec.transform(X))"
   ]
  },
  {
   "cell_type": "code",
   "execution_count": 9,
   "metadata": {},
   "outputs": [],
   "source": [
    "# turn in to a df for lazy column dropping\n",
    "X_scrub = pd.DataFrame(cvec.transform(X).todense(), columns = cvec.get_feature_names())\n",
    "X_scrub['contains_nsfw'] = np.where(nsfw_mask, 1, 0)\n",
    "\n",
    "sia = SentimentIntensityAnalyzer()\n",
    "vader = pd.DataFrame([sia.polarity_scores(x) for x in X])\n",
    "X_scrub = pd.concat(objs=[X_scrub.reset_index(drop=True), vader], axis=1)\n",
    "\n"
   ]
  },
  {
   "cell_type": "code",
   "execution_count": 10,
   "metadata": {},
   "outputs": [
    {
     "name": "stdout",
     "output_type": "stream",
     "text": [
      "00 0.0\n",
      "bangkok 0.09126585744273068\n",
      "cnet 0.18306636155606407\n",
      "día 0.27540622418066646\n",
      "going 0.36812074360390207\n",
      "jeffreygoldberg 0.4607870242373975\n",
      "matthewcdoherty 0.5539654694857354\n",
      "pants 0.6480881399870383\n",
      "richraddon 0.743287187587104\n",
      "status 0.8384572386808273\n",
      "u26fd 0.934317481080071\n"
     ]
    }
   ],
   "source": [
    "# drop columns, with status printout\n",
    "for i, column in enumerate(X_scrub.columns):\n",
    "    if i % 1000 == 0:\n",
    "        print(column, i/len(X_scrub.columns))\n",
    "    \n",
    "    if i in nsfw_columns:\n",
    "        X_scrub.drop([column], inplace=True, axis=1)\n"
   ]
  },
  {
   "cell_type": "code",
   "execution_count": null,
   "metadata": {},
   "outputs": [],
   "source": []
  },
  {
   "cell_type": "code",
   "execution_count": 11,
   "metadata": {},
   "outputs": [],
   "source": [
    "labels = X_scrub.columns\n",
    "# re-sparsify the matrix\n",
    "X_scrub = sparse.csr_matrix(X_scrub.values)\n",
    "\n",
    "# tts\n",
    "X_train, X_test, y_train, y_test = train_test_split(X_scrub, y, test_size = .25, stratify = y, random_state = 23)"
   ]
  },
  {
   "cell_type": "markdown",
   "metadata": {},
   "source": [
    "Undersampling alone can get us all the way up to a recall of ~.62 before we start seeing huge decreases in precision. Accuracy has taken a hit due to the lack of easy 0s to predict, but we see no signs of overfitting with train and test accuracies of .78 and .76.  Once we add the test feature extraction/elimination, recall is increased again to ~.72, depending on configuration, with accuracies hovering around .75 ~ .78.\n",
    "\n",
    "I used VADER for quick sentiment scores. We get positive, neutral, and negative scores, as well as a compound score. This is another area that should be explored more (e.g. political sentiment could be implemented), interactions between sentiment and specific words. Only negative showed up in the 50 estimators used by stock adaboost\n",
    "\n",
    "Below in the gridsearch, I tune using base estimators, number of estimators, and beta value for fbeta scoring."
   ]
  },
  {
   "cell_type": "code",
   "execution_count": 12,
   "metadata": {},
   "outputs": [
    {
     "name": "stdout",
     "output_type": "stream",
     "text": [
      "Looping non-zero entries\n",
      "Generating mask\n",
      "Looping non-zero entries\n",
      "Generating mask\n",
      "NSFW Consolidated\n",
      "Analyzing Sentiment\n",
      "Dropping NSFW\n",
      "Through column  00 0.0\n",
      "Through column  comin 0.1874062968515742\n",
      "Through column  graphic 0.3768962593046264\n",
      "Through column  meridiantdiv 0.5672149744753261\n",
      "Through column  rylandr5 0.7611798287345385\n",
      "Through column  upsetting 0.9569377990430622\n",
      "GridSearching\n",
      "Fitting 5 folds for each of 6 candidates, totalling 30 fits\n"
     ]
    },
    {
     "name": "stderr",
     "output_type": "stream",
     "text": [
      "[Parallel(n_jobs=-1)]: Using backend LokyBackend with 8 concurrent workers.\n",
      "[Parallel(n_jobs=-1)]: Done  30 out of  30 | elapsed:   10.9s finished\n",
      "/Users/teaching/anaconda3/lib/python3.6/site-packages/sklearn/linear_model/logistic.py:432: FutureWarning: Default solver will be changed to 'lbfgs' in 0.22. Specify a solver to silence this warning.\n",
      "  FutureWarning)\n"
     ]
    },
    {
     "name": "stdout",
     "output_type": "stream",
     "text": [
      "Train Score:  14.105462561533166\n",
      "Test Score:  14.097786119322807\n",
      "              precision    recall  f1-score   support\n",
      "\n",
      "           0       0.00      0.00      0.00       500\n",
      "           1       0.59      1.00      0.74       725\n",
      "\n",
      "   micro avg       0.59      0.59      0.59      1225\n",
      "   macro avg       0.30      0.50      0.37      1225\n",
      "weighted avg       0.35      0.59      0.44      1225\n",
      "\n",
      "---\n",
      "{'base_estimator': LogisticRegression(C=0.01, class_weight=None, dual=False, fit_intercept=True,\n",
      "          intercept_scaling=1, max_iter=100, multi_class='warn',\n",
      "          n_jobs=None, penalty='l2', random_state=None, solver='warn',\n",
      "          tol=0.0001, verbose=0, warm_start=False), 'n_estimators': 50}\n"
     ]
    },
    {
     "name": "stderr",
     "output_type": "stream",
     "text": [
      "/Users/teaching/anaconda3/lib/python3.6/site-packages/sklearn/metrics/classification.py:1143: UndefinedMetricWarning: Precision and F-score are ill-defined and being set to 0.0 in labels with no predicted samples.\n",
      "  'precision', 'predicted', average, warn_for)\n"
     ]
    }
   ],
   "source": [
    "# Quick Grid Search\n",
    "be1 = DecisionTreeClassifier(max_depth=1)\n",
    "be2 = LogisticRegression(C=.01)\n",
    "\n",
    "params = {\n",
    "    'base_estimator': [be1, be2],\n",
    "    'n_estimators': [50, 60, 80]\n",
    "}\n",
    "\n",
    "scorers = {\n",
    "    'fbeta': make_scorer(log_loss)\n",
    "}\n",
    "\n",
    "gridsearch = GridSearchCV(AdaBoostClassifier(), params, cv=5, verbose = 1, n_jobs=-1, scoring=scorers, refit='fbeta')\n",
    "\n",
    "\n",
    "# so much for DRY\n",
    "cvec_1e = CountVectorizer(stop_words='english')\n",
    "cvec_1n = CountVectorizer()\n",
    "# cvec_2e = CountVectorizer(ngram_range = (1,2), stop_words='english')\n",
    "# cvec_2n = CountVectorizer(ngram_range = (1,2))\n",
    "\n",
    "vecs = [cvec_1e]\n",
    "\n",
    "for vec in vecs:\n",
    "\n",
    "    # TTS\n",
    "    X_train, X_test, y_train, y_test = train_test_split(X_lem, y, test_size = .25, stratify = y, random_state = 23)\n",
    "\n",
    "    # fresh vectorizer instance\n",
    "    cvec = vec\n",
    "\n",
    "    X_train_cvec = cvec.fit_transform(X_train)\n",
    "    X_test_cvec = cvec.transform(X_test)\n",
    "    \n",
    "    (_, _, nsfw_mask_train) = nsfw_consolidation(cvec, X_train_cvec)\n",
    "    (_, _, nsfw_mask_test) = nsfw_consolidation(cvec, X_test_cvec)\n",
    "    \n",
    "    print('NSFW Consolidated')\n",
    "    \n",
    "    X_scrub_train = pd.DataFrame(X_train_cvec.todense(), columns = cvec.get_feature_names())\n",
    "    X_scrub_test = pd.DataFrame(X_test_cvec.todense(), columns = cvec.get_feature_names())\n",
    "    X_scrub_train['contains_nsfw'] = np.where(nsfw_mask_train, 1, 0)\n",
    "    X_scrub_test['contains_nsfw'] = np.where(nsfw_mask_test, 1, 0)\n",
    "    \n",
    "    print('Analyzing Sentiment')\n",
    "    \n",
    "    sia = SentimentIntensityAnalyzer()\n",
    "    vader_train = pd.DataFrame([sia.polarity_scores(x) for x in X_train])\n",
    "    vader_test = pd.DataFrame([sia.polarity_scores(x) for x in X_test])\n",
    "    X_scrub_train = pd.concat(objs=[X_scrub_train.reset_index(drop=True), vader_train], axis=1)\n",
    "    X_scrub_test = pd.concat(objs=[X_scrub_test.reset_index(drop=True), vader_test], axis=1)\n",
    "    \n",
    "    print('Dropping NSFW')\n",
    "    for i, column in enumerate(X_scrub_train.columns):\n",
    "        if i % 2000 == 0:\n",
    "            print('Through column ', column, i/len(X_scrub_train.columns))\n",
    "\n",
    "        if i in nsfw_columns:\n",
    "            X_scrub_train.drop([column], inplace=True, axis=1)\n",
    "            X_scrub_test.drop([column], inplace=True, axis=1)\n",
    "\n",
    "    labels = X_scrub_train.columns\n",
    "    # re-sparsify the matrix\n",
    "    X_scrub_train = sparse.csr_matrix(X_scrub_train.values)\n",
    "    X_scrub_test = sparse.csr_matrix(X_scrub_test.values)\n",
    "    \n",
    "    print('GridSearching')\n",
    "    gs = gridsearch.fit(X_scrub_train, y_train)\n",
    "\n",
    "    print('Train Score: ', gs.score(X_scrub_train, y_train))\n",
    "    print('Test Score: ', gs.score(X_scrub_test, y_test))\n",
    "    \n",
    "    # get feature importances from the model, plot\n",
    "    print(classification_report(y_test, gs.predict(X_scrub_test)))\n",
    "    print('---')\n",
    "\n",
    "    # use the classification report function for more classification metrics\n",
    "    confusion_matrix(y_test, gs.predict(X_scrub_test))\n",
    "\n",
    "    print(gs.best_params_)"
   ]
  },
  {
   "cell_type": "markdown",
   "metadata": {},
   "source": [
    "### Zeroing in"
   ]
  },
  {
   "cell_type": "code",
   "execution_count": 68,
   "metadata": {},
   "outputs": [
    {
     "name": "stdout",
     "output_type": "stream",
     "text": [
      "Fitting 10 folds for each of 6 candidates, totalling 60 fits\n"
     ]
    },
    {
     "name": "stderr",
     "output_type": "stream",
     "text": [
      "[Parallel(n_jobs=-1)]: Using backend LokyBackend with 8 concurrent workers.\n",
      "[Parallel(n_jobs=-1)]: Done  34 tasks      | elapsed:    5.3s\n"
     ]
    },
    {
     "name": "stdout",
     "output_type": "stream",
     "text": [
      "Train Score:  0.7506660048164774\n",
      "Test Score:  0.7501667492157833\n",
      "              precision    recall  f1-score   support\n",
      "\n",
      "           0       0.64      0.75      0.69       500\n",
      "           1       0.81      0.71      0.75       725\n",
      "\n",
      "   micro avg       0.73      0.73      0.73      1225\n",
      "   macro avg       0.72      0.73      0.72      1225\n",
      "weighted avg       0.74      0.73      0.73      1225\n",
      "\n",
      "---\n",
      "[[377 123]\n",
      " [211 514]]\n",
      "{'base_estimator': DecisionTreeClassifier(class_weight=None, criterion='gini', max_depth=1,\n",
      "            max_features=None, max_leaf_nodes=None,\n",
      "            min_impurity_decrease=0.0, min_impurity_split=None,\n",
      "            min_samples_leaf=1, min_samples_split=2,\n",
      "            min_weight_fraction_leaf=0.0, presort=False, random_state=None,\n",
      "            splitter='best'), 'n_estimators': 12}\n"
     ]
    },
    {
     "name": "stderr",
     "output_type": "stream",
     "text": [
      "[Parallel(n_jobs=-1)]: Done  60 out of  60 | elapsed:   14.3s finished\n"
     ]
    }
   ],
   "source": [
    "\n",
    "be1 = DecisionTreeClassifier(max_depth=1)\n",
    "be2 = DecisionTreeClassifier(max_depth=2)\n",
    "\n",
    "params = {\n",
    "    'base_estimator': [be1],\n",
    "    'n_estimators': [10,12,15,20,28,40, 60, 100],\n",
    "}\n",
    "\n",
    "scorers = {\n",
    "    'recall': make_scorer(recall_score),\n",
    "    'fbeta': make_scorer(fbeta_score, beta=1.1),\n",
    "    'accuracy': make_scorer(accuracy_score)\n",
    "}\n",
    "\n",
    "gridsearch = GridSearchCV(AdaBoostClassifier(), params, cv=10, verbose = 1, n_jobs=-1, scoring=scorers, refit='fbeta')\n",
    "\n",
    "gs = gridsearch.fit(X_scrub_train, y_train)\n",
    "\n",
    "print('Train Score: ', gs.score(X_scrub_train, y_train))\n",
    "print('Test Score: ', gs.score(X_scrub_test, y_test))\n",
    "\n",
    "# get feature importances from the model, plot\n",
    "print(classification_report(y_test, gs.predict(X_scrub_test)))\n",
    "print('---')\n",
    "\n",
    "# use the classification report function for more classification metrics\n",
    "print(confusion_matrix(y_test, gs.predict(X_scrub_test)))\n",
    "\n",
    "print(gs.best_params_)"
   ]
  },
  {
   "cell_type": "code",
   "execution_count": 69,
   "metadata": {},
   "outputs": [
    {
     "data": {
      "image/png": "[encoded data removed]",
      "text/plain": [
       "<Figure size 432x288 with 1 Axes>"
      ]
     },
     "metadata": {
      "needs_background": "light"
     },
     "output_type": "display_data"
    },
    {
     "data": {
      "text/plain": [
       "0.7240319204604919"
      ]
     },
     "execution_count": 69,
     "metadata": {},
     "output_type": "execute_result"
    }
   ],
   "source": [
    "roc(gs.best_estimator_.predict_proba(X_scrub_test), y_test)\n",
    "roc_auc_score(gs.best_estimator_.predict(X_scrub_test), y_test)"
   ]
  },
  {
   "cell_type": "markdown",
   "metadata": {},
   "source": [
    "Somewhat of a success, we are able to push further than our original model. The FPR still rises sharply."
   ]
  },
  {
   "cell_type": "code",
   "execution_count": 70,
   "metadata": {},
   "outputs": [
    {
     "name": "stderr",
     "output_type": "stream",
     "text": [
      "/Users/teaching/anaconda3/lib/python3.6/site-packages/sklearn/utils/deprecation.py:125: FutureWarning: You are accessing a training score ('mean_train_accuracy'), which will not be available by default any more in 0.21. If you need training scores, please set return_train_score=True\n",
      "  warnings.warn(*warn_args, **warn_kwargs)\n",
      "/Users/teaching/anaconda3/lib/python3.6/site-packages/sklearn/utils/deprecation.py:125: FutureWarning: You are accessing a training score ('std_train_accuracy'), which will not be available by default any more in 0.21. If you need training scores, please set return_train_score=True\n",
      "  warnings.warn(*warn_args, **warn_kwargs)\n",
      "/Users/teaching/anaconda3/lib/python3.6/site-packages/sklearn/utils/deprecation.py:125: FutureWarning: You are accessing a training score ('mean_train_fbeta'), which will not be available by default any more in 0.21. If you need training scores, please set return_train_score=True\n",
      "  warnings.warn(*warn_args, **warn_kwargs)\n",
      "/Users/teaching/anaconda3/lib/python3.6/site-packages/sklearn/utils/deprecation.py:125: FutureWarning: You are accessing a training score ('std_train_fbeta'), which will not be available by default any more in 0.21. If you need training scores, please set return_train_score=True\n",
      "  warnings.warn(*warn_args, **warn_kwargs)\n",
      "/Users/teaching/anaconda3/lib/python3.6/site-packages/sklearn/utils/deprecation.py:125: FutureWarning: You are accessing a training score ('mean_train_recall'), which will not be available by default any more in 0.21. If you need training scores, please set return_train_score=True\n",
      "  warnings.warn(*warn_args, **warn_kwargs)\n",
      "/Users/teaching/anaconda3/lib/python3.6/site-packages/sklearn/utils/deprecation.py:125: FutureWarning: You are accessing a training score ('std_train_recall'), which will not be available by default any more in 0.21. If you need training scores, please set return_train_score=True\n",
      "  warnings.warn(*warn_args, **warn_kwargs)\n",
      "/Users/teaching/anaconda3/lib/python3.6/site-packages/matplotlib/cbook/__init__.py:424: MatplotlibDeprecationWarning: \n",
      "Passing one of 'on', 'true', 'off', 'false' as a boolean is deprecated; use an actual boolean (True/False) instead.\n",
      "  warn_deprecated(\"2.2\", \"Passing one of 'on', 'true', 'off', 'false' as a \"\n"
     ]
    },
    {
     "data": {
      "image/png": "[encoded data removed]",
      "text/plain": [
       "<Figure size 936x936 with 1 Axes>"
      ]
     },
     "metadata": {
      "needs_background": "light"
     },
     "output_type": "display_data"
    }
   ],
   "source": [
    "results = gs.cv_results_\n",
    "plt.figure(figsize=(13, 13))\n",
    "plt.title(\"GridSearchCV evaluating using multiple scorers simultaneously\",\n",
    "          fontsize=16)\n",
    "\n",
    "plt.xlabel(\"N Estimators\")\n",
    "plt.ylabel(\"Score\")\n",
    "\n",
    "ax = plt.gca()\n",
    "ax.set_xlim(5, 200)\n",
    "ax.set_ylim(0.5, 0.8)\n",
    "\n",
    "# Get the regular numpy array from the MaskedArray\n",
    "X_axis = np.array(results['param_n_estimators'].data, dtype=float)\n",
    "\n",
    "for scorer, color in zip(sorted(scorers), ['g', 'k', 'r']):\n",
    "    for sample, style in (('train', '--'), ('test', '-')):\n",
    "        sample_score_mean = results['mean_%s_%s' % (sample, scorer)]\n",
    "        sample_score_std = results['std_%s_%s' % (sample, scorer)]\n",
    "        ax.fill_between(X_axis, sample_score_mean - sample_score_std,\n",
    "                        sample_score_mean + sample_score_std,\n",
    "                        alpha=0.1 if sample == 'test' else 0, color=color)\n",
    "        ax.plot(X_axis, sample_score_mean, style, color=color,\n",
    "                alpha=1 if sample == 'test' else 0.7,\n",
    "                label=\"%s (%s)\" % (scorer, sample))\n",
    "\n",
    "    best_index = np.nonzero(results['rank_test_%s' % scorer] == 1)[0][0]\n",
    "    best_score = results['mean_test_%s' % scorer][best_index]\n",
    "\n",
    "    # Plot a dotted vertical line at the best score for that scorer marked by x\n",
    "    ax.plot([X_axis[best_index], ] * 2, [0, best_score],\n",
    "            linestyle='-.', color=color, marker='x', markeredgewidth=3, ms=8)\n",
    "\n",
    "    # Annotate the best score for that scorer\n",
    "    ax.annotate(\"%0.2f\" % best_score,\n",
    "                (X_axis[best_index], best_score + 0.005))\n",
    "\n",
    "plt.legend(loc=\"best\")\n",
    "plt.grid('off')\n",
    "plt.show()"
   ]
  },
  {
   "cell_type": "code",
   "execution_count": null,
   "metadata": {},
   "outputs": [],
   "source": []
  },
  {
   "cell_type": "code",
   "execution_count": null,
   "metadata": {},
   "outputs": [],
   "source": []
  },
  {
   "cell_type": "code",
   "execution_count": null,
   "metadata": {},
   "outputs": [],
   "source": []
  }
 ],
 "metadata": {
  "kernelspec": {
   "display_name": "Python 3",
   "language": "python",
   "name": "python3"
  },
  "language_info": {
   "codemirror_mode": {
    "name": "ipython",
    "version": 3
   },
   "file_extension": ".py",
   "mimetype": "text/x-python",
   "name": "python",
   "nbconvert_exporter": "python",
   "pygments_lexer": "ipython3",
   "version": "3.6.6"
  }
 },
 "nbformat": 4,
 "nbformat_minor": 2
}
