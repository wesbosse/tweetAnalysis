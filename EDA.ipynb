{
 "cells": [
  {
   "cell_type": "markdown",
   "metadata": {},
   "source": [
    "## EDA\n",
    "This notebook demonstrates the EDA process that I took when first evaluating the Tweets. It was `cleaned up` at the end, but contains several comments that preserve my approach. A summary of these steps can be found in the technical report notebook\n",
    "\n",
    "--- \n",
    "\n",
    "**Library Imports**"
   ]
  },
  {
   "cell_type": "code",
   "execution_count": 1,
   "metadata": {},
   "outputs": [],
   "source": [
    "# the classics\n",
    "import scipy.sparse as sparse\n",
    "import itertools\n",
    "import pandas as pd\n",
    "import numpy as np\n",
    "import matplotlib.pyplot as plt\n",
    "import seaborn as sns\n",
    "from matplotlib.patches import Patch\n",
    "%matplotlib inline\n",
    "\n",
    "# import some pre-written snippets that might be useful.\n",
    "from wbcustom.roc import plot as roc_plot\n",
    "#from wbcustom.notebook_analysis import notebook_analysis as notebook\n",
    "\n",
    "# some specific data manipulation tools from sklearn\n",
    "from sklearn.model_selection import train_test_split\n",
    "from sklearn.feature_extraction.text import CountVectorizer\n",
    "\n",
    "# a few models to try at first\n",
    "from sklearn.naive_bayes import MultinomialNB\n",
    "from sklearn.tree import DecisionTreeClassifier\n",
    "from sklearn.ensemble import RandomForestClassifier, ExtraTreesClassifier, AdaBoostClassifier\n",
    "\n",
    "# model evaluation tools\n",
    "from sklearn.metrics import confusion_matrix, roc_auc_score, classification_report\n",
    "\n",
    "from nltk.stem import WordNetLemmatizer, SnowballStemmer, PorterStemmer"
   ]
  },
  {
   "cell_type": "markdown",
   "metadata": {},
   "source": [
    "**Reading in the Data**"
   ]
  },
  {
   "cell_type": "code",
   "execution_count": 2,
   "metadata": {},
   "outputs": [],
   "source": [
    "# read in all of the tweets\n",
    "tweets = pd.read_csv('./data/tweets.csv')"
   ]
  },
  {
   "cell_type": "markdown",
   "metadata": {},
   "source": [
    "**Initial Inspection**"
   ]
  },
  {
   "cell_type": "code",
   "execution_count": 3,
   "metadata": {},
   "outputs": [
    {
     "name": "stdout",
     "output_type": "stream",
     "text": [
      "<class 'pandas.core.frame.DataFrame'>\n",
      "RangeIndex: 22000 entries, 0 to 21999\n",
      "Data columns (total 4 columns):\n",
      "post_id                 22000 non-null object\n",
      "text                    21930 non-null object\n",
      "date_posted             22000 non-null object\n",
      "questionable_content    22000 non-null int64\n",
      "dtypes: int64(1), object(3)\n",
      "memory usage: 687.6+ KB\n"
     ]
    },
    {
     "data": {
      "text/html": [
       "<div>\n",
       "<style scoped>\n",
       "    .dataframe tbody tr th:only-of-type {\n",
       "        vertical-align: middle;\n",
       "    }\n",
       "\n",
       "    .dataframe tbody tr th {\n",
       "        vertical-align: top;\n",
       "    }\n",
       "\n",
       "    .dataframe thead th {\n",
       "        text-align: right;\n",
       "    }\n",
       "</style>\n",
       "<table border=\"1\" class=\"dataframe\">\n",
       "  <thead>\n",
       "    <tr style=\"text-align: right;\">\n",
       "      <th></th>\n",
       "      <th>post_id</th>\n",
       "      <th>text</th>\n",
       "      <th>date_posted</th>\n",
       "      <th>questionable_content</th>\n",
       "    </tr>\n",
       "  </thead>\n",
       "  <tbody>\n",
       "    <tr>\n",
       "      <th>0</th>\n",
       "      <td>0001c77a4801bb027d688e666563871f</td>\n",
       "      <td>RT @knowledgwharton: What's behind Apple's rec...</td>\n",
       "      <td>2012-04-18 19:36:01</td>\n",
       "      <td>0</td>\n",
       "    </tr>\n",
       "    <tr>\n",
       "      <th>1</th>\n",
       "      <td>000331a02f8139ed402aef6aa36e8082</td>\n",
       "      <td>she escaped an abusive marriage, worked&amp;payed ...</td>\n",
       "      <td>2016-07-18 06:20:01</td>\n",
       "      <td>0</td>\n",
       "    </tr>\n",
       "    <tr>\n",
       "      <th>2</th>\n",
       "      <td>0009cafe3525d848a2e559b1accb1146</td>\n",
       "      <td>Nigga this is outside</td>\n",
       "      <td>2017-06-01 21:06:58</td>\n",
       "      <td>1</td>\n",
       "    </tr>\n",
       "    <tr>\n",
       "      <th>3</th>\n",
       "      <td>00124caf4bb38d55fbdd48ded2411eda</td>\n",
       "      <td>GM takes on Ford Fiesta with the Chevy Sonic v...</td>\n",
       "      <td>2011-05-31 12:33:49</td>\n",
       "      <td>0</td>\n",
       "    </tr>\n",
       "    <tr>\n",
       "      <th>4</th>\n",
       "      <td>00133102dbc83e0ceb396abb7cd98886</td>\n",
       "      <td>I want to give Tyrone a hug, a drink, and even...</td>\n",
       "      <td>2017-04-05 06:13:19</td>\n",
       "      <td>0</td>\n",
       "    </tr>\n",
       "  </tbody>\n",
       "</table>\n",
       "</div>"
      ],
      "text/plain": [
       "                            post_id  \\\n",
       "0  0001c77a4801bb027d688e666563871f   \n",
       "1  000331a02f8139ed402aef6aa36e8082   \n",
       "2  0009cafe3525d848a2e559b1accb1146   \n",
       "3  00124caf4bb38d55fbdd48ded2411eda   \n",
       "4  00133102dbc83e0ceb396abb7cd98886   \n",
       "\n",
       "                                                text          date_posted  \\\n",
       "0  RT @knowledgwharton: What's behind Apple's rec...  2012-04-18 19:36:01   \n",
       "1  she escaped an abusive marriage, worked&payed ...  2016-07-18 06:20:01   \n",
       "2                             Nigga this is outside   2017-06-01 21:06:58   \n",
       "3  GM takes on Ford Fiesta with the Chevy Sonic v...  2011-05-31 12:33:49   \n",
       "4  I want to give Tyrone a hug, a drink, and even...  2017-04-05 06:13:19   \n",
       "\n",
       "   questionable_content  \n",
       "0                     0  \n",
       "1                     0  \n",
       "2                     1  \n",
       "3                     0  \n",
       "4                     0  "
      ]
     },
     "execution_count": 3,
     "metadata": {},
     "output_type": "execute_result"
    }
   ],
   "source": [
    "# quick look at what I'm dealing with\n",
    "tweets.info()\n",
    "tweets.head()"
   ]
  },
  {
   "cell_type": "markdown",
   "metadata": {},
   "source": [
    "22,000 tweets, 4 columns in total:\n",
    " - post_id: a unique post id (not the numeric status id from twitter)\n",
    " - text: the content of the tweet\n",
    " - date_posted: tweet's time-stamp (not in datetime format)\n",
    " - questionable_content: target column\n",
    " \n",
    "We see that a few of our data points are missing their original content. Upon first inspection, I was hoping to retrieve the missing data using `python-twitter` and the post_id column, but the values are string identifiers, and not the numeric tweet ids. Next time...  \n",
    "\n",
    "Let's check the balance of our target class."
   ]
  },
  {
   "cell_type": "code",
   "execution_count": 4,
   "metadata": {},
   "outputs": [
    {
     "name": "stdout",
     "output_type": "stream",
     "text": [
      "Counts [19098  2902]\n",
      "Composition [0.86809091 0.13190909]\n"
     ]
    }
   ],
   "source": [
    "cb = tweets['questionable_content'].value_counts()\n",
    "\n",
    "print('Counts', cb.values)\n",
    "print('Composition', cb.values/len(tweets))"
   ]
  },
  {
   "cell_type": "markdown",
   "metadata": {},
   "source": [
    "2902 tweets are marked as questionable, meaning 13%. We will need to keep this slight imbalance in mind during modeling, but for now let's take a look at the 70 tweets that are missing text."
   ]
  },
  {
   "cell_type": "markdown",
   "metadata": {},
   "source": [
    "**Addressing the Missing Data**"
   ]
  },
  {
   "cell_type": "code",
   "execution_count": 5,
   "metadata": {},
   "outputs": [
    {
     "data": {
      "text/html": [
       "<div>\n",
       "<style scoped>\n",
       "    .dataframe tbody tr th:only-of-type {\n",
       "        vertical-align: middle;\n",
       "    }\n",
       "\n",
       "    .dataframe tbody tr th {\n",
       "        vertical-align: top;\n",
       "    }\n",
       "\n",
       "    .dataframe thead th {\n",
       "        text-align: right;\n",
       "    }\n",
       "</style>\n",
       "<table border=\"1\" class=\"dataframe\">\n",
       "  <thead>\n",
       "    <tr style=\"text-align: right;\">\n",
       "      <th></th>\n",
       "      <th>post_id</th>\n",
       "      <th>text</th>\n",
       "      <th>date_posted</th>\n",
       "      <th>questionable_content</th>\n",
       "    </tr>\n",
       "  </thead>\n",
       "  <tbody>\n",
       "    <tr>\n",
       "      <th>128</th>\n",
       "      <td>019297edd8f89b2de4ad4815fb8a8b0a</td>\n",
       "      <td>NaN</td>\n",
       "      <td>2011-10-26 19:48:59</td>\n",
       "      <td>0</td>\n",
       "    </tr>\n",
       "    <tr>\n",
       "      <th>210</th>\n",
       "      <td>029fced8545582fec09e4c70d17d1039</td>\n",
       "      <td>NaN</td>\n",
       "      <td>2016-01-17 03:27:50</td>\n",
       "      <td>0</td>\n",
       "    </tr>\n",
       "    <tr>\n",
       "      <th>471</th>\n",
       "      <td>05acc5d09f7367495cd47fc3940168b5</td>\n",
       "      <td>NaN</td>\n",
       "      <td>2011-11-09 20:39:47</td>\n",
       "      <td>0</td>\n",
       "    </tr>\n",
       "    <tr>\n",
       "      <th>783</th>\n",
       "      <td>0967203fd1e0f9a814dfc0c027a8563d</td>\n",
       "      <td>NaN</td>\n",
       "      <td>2012-01-30 10:02:53</td>\n",
       "      <td>0</td>\n",
       "    </tr>\n",
       "    <tr>\n",
       "      <th>1285</th>\n",
       "      <td>0f2393dde2a33ca8fa75090ab0417101</td>\n",
       "      <td>NaN</td>\n",
       "      <td>2015-08-29 19:21:48</td>\n",
       "      <td>0</td>\n",
       "    </tr>\n",
       "  </tbody>\n",
       "</table>\n",
       "</div>"
      ],
      "text/plain": [
       "                               post_id text          date_posted  \\\n",
       "128   019297edd8f89b2de4ad4815fb8a8b0a  NaN  2011-10-26 19:48:59   \n",
       "210   029fced8545582fec09e4c70d17d1039  NaN  2016-01-17 03:27:50   \n",
       "471   05acc5d09f7367495cd47fc3940168b5  NaN  2011-11-09 20:39:47   \n",
       "783   0967203fd1e0f9a814dfc0c027a8563d  NaN  2012-01-30 10:02:53   \n",
       "1285  0f2393dde2a33ca8fa75090ab0417101  NaN  2015-08-29 19:21:48   \n",
       "\n",
       "      questionable_content  \n",
       "128                      0  \n",
       "210                      0  \n",
       "471                      0  \n",
       "783                      0  \n",
       "1285                     0  "
      ]
     },
     "execution_count": 5,
     "metadata": {},
     "output_type": "execute_result"
    }
   ],
   "source": [
    "# gather tweets with null values in the text column\n",
    "null = tweets[tweets['text'].isnull()]\n",
    "\n",
    "null.head()"
   ]
  },
  {
   "cell_type": "code",
   "execution_count": 6,
   "metadata": {},
   "outputs": [
    {
     "data": {
      "text/plain": [
       "0    66\n",
       "1     4\n",
       "Name: questionable_content, dtype: int64"
      ]
     },
     "execution_count": 6,
     "metadata": {},
     "output_type": "execute_result"
    }
   ],
   "source": [
    "# what are the labels of the missing tweets?\n",
    "null['questionable_content'].value_counts()"
   ]
  },
  {
   "cell_type": "markdown",
   "metadata": {},
   "source": [
    "Some of them are labeled as questionable, but we can't hope to figure out why without the tweet's text or the ability to look up the original tweet itself. Dropping these tweets only removes .3% of our data, so I will go ahead and drop them."
   ]
  },
  {
   "cell_type": "code",
   "execution_count": 7,
   "metadata": {},
   "outputs": [],
   "source": [
    "# drop tweets with any null values\n",
    "tweets = tweets.dropna().reset_index(drop=True)"
   ]
  },
  {
   "cell_type": "markdown",
   "metadata": {},
   "source": [
    "**Quick Look at `date_posted`**"
   ]
  },
  {
   "cell_type": "code",
   "execution_count": 8,
   "metadata": {},
   "outputs": [],
   "source": [
    "# convert the column to a datetime object, rename it to timestamp\n",
    "try:\n",
    "    tweets['timestamp'] = pd.to_datetime(tweets['date_posted'])    \n",
    "    tweets = tweets.drop(columns='date_posted')\n",
    "except KeyError:\n",
    "    pass\n",
    "\n",
    "# create columns with each time scale value\n",
    "timestamp = pd.DataFrame({\n",
    "    'hour': tweets['timestamp'].dt.hour,\n",
    "    'day': tweets['timestamp'].dt.day,\n",
    "    'month': tweets['timestamp'].dt.month,\n",
    "    'year': tweets['timestamp'].dt.year,\n",
    "    'day_of_week': tweets['timestamp'].dt.dayofweek,\n",
    "    'week_of_year': tweets['timestamp'].dt.weekofyear\n",
    "})\n",
    "\n",
    "# add this new info to the data\n",
    "tweets = pd.concat(objs=[tweets, timestamp], axis = 1)"
   ]
  },
  {
   "cell_type": "markdown",
   "metadata": {},
   "source": [
    "Let's take a glance at the new columns"
   ]
  },
  {
   "cell_type": "code",
   "execution_count": 9,
   "metadata": {},
   "outputs": [
    {
     "data": {
      "text/html": [
       "<div>\n",
       "<style scoped>\n",
       "    .dataframe tbody tr th:only-of-type {\n",
       "        vertical-align: middle;\n",
       "    }\n",
       "\n",
       "    .dataframe tbody tr th {\n",
       "        vertical-align: top;\n",
       "    }\n",
       "\n",
       "    .dataframe thead th {\n",
       "        text-align: right;\n",
       "    }\n",
       "</style>\n",
       "<table border=\"1\" class=\"dataframe\">\n",
       "  <thead>\n",
       "    <tr style=\"text-align: right;\">\n",
       "      <th></th>\n",
       "      <th>questionable_content</th>\n",
       "      <th>hour</th>\n",
       "      <th>day</th>\n",
       "      <th>month</th>\n",
       "      <th>year</th>\n",
       "      <th>day_of_week</th>\n",
       "      <th>week_of_year</th>\n",
       "    </tr>\n",
       "  </thead>\n",
       "  <tbody>\n",
       "    <tr>\n",
       "      <th>count</th>\n",
       "      <td>21930.000000</td>\n",
       "      <td>21930.000000</td>\n",
       "      <td>21930.000000</td>\n",
       "      <td>21930.000000</td>\n",
       "      <td>21930.000000</td>\n",
       "      <td>21930.000000</td>\n",
       "      <td>21930.000000</td>\n",
       "    </tr>\n",
       "    <tr>\n",
       "      <th>mean</th>\n",
       "      <td>0.132148</td>\n",
       "      <td>12.484086</td>\n",
       "      <td>15.792978</td>\n",
       "      <td>6.407159</td>\n",
       "      <td>2013.960876</td>\n",
       "      <td>2.846420</td>\n",
       "      <td>26.096261</td>\n",
       "    </tr>\n",
       "    <tr>\n",
       "      <th>std</th>\n",
       "      <td>0.338659</td>\n",
       "      <td>7.575244</td>\n",
       "      <td>8.791706</td>\n",
       "      <td>3.447180</td>\n",
       "      <td>4.286389</td>\n",
       "      <td>1.944423</td>\n",
       "      <td>15.047837</td>\n",
       "    </tr>\n",
       "    <tr>\n",
       "      <th>min</th>\n",
       "      <td>0.000000</td>\n",
       "      <td>0.000000</td>\n",
       "      <td>1.000000</td>\n",
       "      <td>1.000000</td>\n",
       "      <td>1970.000000</td>\n",
       "      <td>0.000000</td>\n",
       "      <td>1.000000</td>\n",
       "    </tr>\n",
       "    <tr>\n",
       "      <th>25%</th>\n",
       "      <td>0.000000</td>\n",
       "      <td>4.000000</td>\n",
       "      <td>8.000000</td>\n",
       "      <td>3.000000</td>\n",
       "      <td>2013.000000</td>\n",
       "      <td>1.000000</td>\n",
       "      <td>13.000000</td>\n",
       "    </tr>\n",
       "    <tr>\n",
       "      <th>50%</th>\n",
       "      <td>0.000000</td>\n",
       "      <td>15.000000</td>\n",
       "      <td>16.000000</td>\n",
       "      <td>6.000000</td>\n",
       "      <td>2015.000000</td>\n",
       "      <td>3.000000</td>\n",
       "      <td>26.000000</td>\n",
       "    </tr>\n",
       "    <tr>\n",
       "      <th>75%</th>\n",
       "      <td>0.000000</td>\n",
       "      <td>19.000000</td>\n",
       "      <td>23.000000</td>\n",
       "      <td>9.000000</td>\n",
       "      <td>2016.000000</td>\n",
       "      <td>4.000000</td>\n",
       "      <td>39.000000</td>\n",
       "    </tr>\n",
       "    <tr>\n",
       "      <th>max</th>\n",
       "      <td>1.000000</td>\n",
       "      <td>23.000000</td>\n",
       "      <td>31.000000</td>\n",
       "      <td>12.000000</td>\n",
       "      <td>2018.000000</td>\n",
       "      <td>6.000000</td>\n",
       "      <td>53.000000</td>\n",
       "    </tr>\n",
       "  </tbody>\n",
       "</table>\n",
       "</div>"
      ],
      "text/plain": [
       "       questionable_content          hour           day         month  \\\n",
       "count          21930.000000  21930.000000  21930.000000  21930.000000   \n",
       "mean               0.132148     12.484086     15.792978      6.407159   \n",
       "std                0.338659      7.575244      8.791706      3.447180   \n",
       "min                0.000000      0.000000      1.000000      1.000000   \n",
       "25%                0.000000      4.000000      8.000000      3.000000   \n",
       "50%                0.000000     15.000000     16.000000      6.000000   \n",
       "75%                0.000000     19.000000     23.000000      9.000000   \n",
       "max                1.000000     23.000000     31.000000     12.000000   \n",
       "\n",
       "               year   day_of_week  week_of_year  \n",
       "count  21930.000000  21930.000000  21930.000000  \n",
       "mean    2013.960876      2.846420     26.096261  \n",
       "std        4.286389      1.944423     15.047837  \n",
       "min     1970.000000      0.000000      1.000000  \n",
       "25%     2013.000000      1.000000     13.000000  \n",
       "50%     2015.000000      3.000000     26.000000  \n",
       "75%     2016.000000      4.000000     39.000000  \n",
       "max     2018.000000      6.000000     53.000000  "
      ]
     },
     "execution_count": 9,
     "metadata": {},
     "output_type": "execute_result"
    }
   ],
   "source": [
    "tweets.describe()"
   ]
  },
  {
   "cell_type": "code",
   "execution_count": 10,
   "metadata": {},
   "outputs": [
    {
     "data": {
      "text/plain": [
       "{1970, 2007, 2008, 2009, 2010, 2011, 2012, 2013, 2014, 2015, 2016, 2017, 2018}"
      ]
     },
     "execution_count": 10,
     "metadata": {},
     "output_type": "execute_result"
    }
   ],
   "source": [
    "set(tweets['year'])"
   ]
  },
  {
   "cell_type": "markdown",
   "metadata": {},
   "source": [
    "Some tweets are stamped with a 1970 post date. This is obviously an error as twitter wasn't created until 2006. Using the year 1970 as a mask, we can dig in to these erroneous timestamps."
   ]
  },
  {
   "cell_type": "code",
   "execution_count": 11,
   "metadata": {},
   "outputs": [
    {
     "data": {
      "text/html": [
       "<div>\n",
       "<style scoped>\n",
       "    .dataframe tbody tr th:only-of-type {\n",
       "        vertical-align: middle;\n",
       "    }\n",
       "\n",
       "    .dataframe tbody tr th {\n",
       "        vertical-align: top;\n",
       "    }\n",
       "\n",
       "    .dataframe thead th {\n",
       "        text-align: right;\n",
       "    }\n",
       "</style>\n",
       "<table border=\"1\" class=\"dataframe\">\n",
       "  <thead>\n",
       "    <tr style=\"text-align: right;\">\n",
       "      <th></th>\n",
       "      <th>questionable_content</th>\n",
       "      <th>hour</th>\n",
       "      <th>day</th>\n",
       "      <th>month</th>\n",
       "      <th>year</th>\n",
       "      <th>day_of_week</th>\n",
       "      <th>week_of_year</th>\n",
       "    </tr>\n",
       "  </thead>\n",
       "  <tbody>\n",
       "    <tr>\n",
       "      <th>count</th>\n",
       "      <td>156.000000</td>\n",
       "      <td>156.000000</td>\n",
       "      <td>156.000000</td>\n",
       "      <td>156.000000</td>\n",
       "      <td>156.0</td>\n",
       "      <td>156.000000</td>\n",
       "      <td>156.000000</td>\n",
       "    </tr>\n",
       "    <tr>\n",
       "      <th>mean</th>\n",
       "      <td>0.038462</td>\n",
       "      <td>13.615385</td>\n",
       "      <td>15.865385</td>\n",
       "      <td>5.762821</td>\n",
       "      <td>1970.0</td>\n",
       "      <td>3.102564</td>\n",
       "      <td>23.685897</td>\n",
       "    </tr>\n",
       "    <tr>\n",
       "      <th>std</th>\n",
       "      <td>0.192927</td>\n",
       "      <td>7.453479</td>\n",
       "      <td>9.189115</td>\n",
       "      <td>3.229126</td>\n",
       "      <td>0.0</td>\n",
       "      <td>1.944984</td>\n",
       "      <td>14.190776</td>\n",
       "    </tr>\n",
       "    <tr>\n",
       "      <th>min</th>\n",
       "      <td>0.000000</td>\n",
       "      <td>0.000000</td>\n",
       "      <td>1.000000</td>\n",
       "      <td>1.000000</td>\n",
       "      <td>1970.0</td>\n",
       "      <td>0.000000</td>\n",
       "      <td>2.000000</td>\n",
       "    </tr>\n",
       "    <tr>\n",
       "      <th>25%</th>\n",
       "      <td>0.000000</td>\n",
       "      <td>7.750000</td>\n",
       "      <td>6.750000</td>\n",
       "      <td>3.000000</td>\n",
       "      <td>1970.0</td>\n",
       "      <td>1.000000</td>\n",
       "      <td>12.000000</td>\n",
       "    </tr>\n",
       "    <tr>\n",
       "      <th>50%</th>\n",
       "      <td>0.000000</td>\n",
       "      <td>15.000000</td>\n",
       "      <td>16.500000</td>\n",
       "      <td>6.000000</td>\n",
       "      <td>1970.0</td>\n",
       "      <td>3.000000</td>\n",
       "      <td>23.500000</td>\n",
       "    </tr>\n",
       "    <tr>\n",
       "      <th>75%</th>\n",
       "      <td>0.000000</td>\n",
       "      <td>20.000000</td>\n",
       "      <td>24.000000</td>\n",
       "      <td>8.000000</td>\n",
       "      <td>1970.0</td>\n",
       "      <td>5.000000</td>\n",
       "      <td>34.000000</td>\n",
       "    </tr>\n",
       "    <tr>\n",
       "      <th>max</th>\n",
       "      <td>1.000000</td>\n",
       "      <td>23.000000</td>\n",
       "      <td>31.000000</td>\n",
       "      <td>12.000000</td>\n",
       "      <td>1970.0</td>\n",
       "      <td>6.000000</td>\n",
       "      <td>53.000000</td>\n",
       "    </tr>\n",
       "  </tbody>\n",
       "</table>\n",
       "</div>"
      ],
      "text/plain": [
       "       questionable_content        hour         day       month    year  \\\n",
       "count            156.000000  156.000000  156.000000  156.000000   156.0   \n",
       "mean               0.038462   13.615385   15.865385    5.762821  1970.0   \n",
       "std                0.192927    7.453479    9.189115    3.229126     0.0   \n",
       "min                0.000000    0.000000    1.000000    1.000000  1970.0   \n",
       "25%                0.000000    7.750000    6.750000    3.000000  1970.0   \n",
       "50%                0.000000   15.000000   16.500000    6.000000  1970.0   \n",
       "75%                0.000000   20.000000   24.000000    8.000000  1970.0   \n",
       "max                1.000000   23.000000   31.000000   12.000000  1970.0   \n",
       "\n",
       "       day_of_week  week_of_year  \n",
       "count   156.000000    156.000000  \n",
       "mean      3.102564     23.685897  \n",
       "std       1.944984     14.190776  \n",
       "min       0.000000      2.000000  \n",
       "25%       1.000000     12.000000  \n",
       "50%       3.000000     23.500000  \n",
       "75%       5.000000     34.000000  \n",
       "max       6.000000     53.000000  "
      ]
     },
     "execution_count": 11,
     "metadata": {},
     "output_type": "execute_result"
    }
   ],
   "source": [
    "tweets[tweets['year'] == 1970].describe()"
   ]
  },
  {
   "cell_type": "markdown",
   "metadata": {},
   "source": [
    "It looks like these years are mislabled, but the rest of the timestamp is ok. We will avoid using the year in the model, knowing there are errors. Now lets plot out the count and questionable percentage of tweets on each time scale to look for any trends that exist. "
   ]
  },
  {
   "cell_type": "code",
   "execution_count": 12,
   "metadata": {},
   "outputs": [
    {
     "data": {
      "image/png": "[encoded data removed]",
      "text/plain": [
       "<Figure size 864x288 with 2 Axes>"
      ]
     },
     "metadata": {
      "needs_background": "light"
     },
     "output_type": "display_data"
    },
    {
     "data": {
      "image/png": "[encoded data removed]",
      "text/plain": [
       "<Figure size 864x288 with 2 Axes>"
      ]
     },
     "metadata": {
      "needs_background": "light"
     },
     "output_type": "display_data"
    },
    {
     "data": {
      "image/png": "[encoded data removed]",
      "text/plain": [
       "<Figure size 864x288 with 2 Axes>"
      ]
     },
     "metadata": {
      "needs_background": "light"
     },
     "output_type": "display_data"
    },
    {
     "data": {
      "image/png": "[encoded data removed]",
      "text/plain": [
       "<Figure size 864x288 with 2 Axes>"
      ]
     },
     "metadata": {
      "needs_background": "light"
     },
     "output_type": "display_data"
    },
    {
     "data": {
      "image/png": "[encoded data removed]",
      "text/plain": [
       "<Figure size 864x288 with 2 Axes>"
      ]
     },
     "metadata": {
      "needs_background": "light"
     },
     "output_type": "display_data"
    },
    {
     "data": {
      "image/png": "[encoded data removed]",
      "text/plain": [
       "<Figure size 864x288 with 2 Axes>"
      ]
     },
     "metadata": {
      "needs_background": "light"
     },
     "output_type": "display_data"
    }
   ],
   "source": [
    "for column in ['hour', 'day', 'month', 'year', 'day_of_week', 'week_of_year']:\n",
    "    \n",
    "    # group tweets by different specified time scale\n",
    "    groupings = tweets.groupby(by=[tweets[column]])\n",
    "\n",
    "    # create the variables to plot: tweet counts, questionable content percentages, and time intervals\n",
    "    y1 = list(groupings['questionable_content'].count())\n",
    "    y2 = list(groupings['questionable_content'].sum()*100/groupings['questionable_content'].count())\n",
    "    x = list(set(groupings.keys[0]))\n",
    "    \n",
    "    df = pd.DataFrame({\n",
    "        'index': x,\n",
    "        'count': y1,\n",
    "        'questionable percentage': y2\n",
    "    })\n",
    "    \n",
    "    # instantiate plot\n",
    "    width= .4\n",
    "    fig = plt.figure(figsize=(12,4)) # create figure\n",
    "    \n",
    "    # create the stacked subplots\n",
    "    ax = fig.add_subplot(111) \n",
    "    ax2 = ax.twinx() # copy for side by side bars\n",
    "\n",
    "    # use pandas to populate subplots\n",
    "    df['count'].plot(kind='bar', color='red', ax=ax, width=width, position=1)\n",
    "    df['questionable percentage'].plot(kind='bar', color='blue', ax=ax2, width=width, position=0)\n",
    "    \n",
    "    # set label and color for yticks for first plot\n",
    "    ax.set_ylabel('Tweet Count')\n",
    "    for tl in ax.get_yticklabels():\n",
    "        tl.set_color('b')\n",
    "    \n",
    "    # again for second plot\n",
    "    ax2.set_ylabel('Percent Questionable (%)',)\n",
    "    for tl in ax2.get_yticklabels():\n",
    "        tl.set_color('r')\n",
    "        \n",
    "    # display final viz\n",
    "    plt.title(f'Tweet breakdown by {column.capitalize()}')"
   ]
  },
  {
   "cell_type": "markdown",
   "metadata": {},
   "source": [
    "These charts need to be cleaned up (specifically left spacing and xticks for by-year), but it gives us a quick look at the different trends. If these charts were required in production, I would likely use tableau to add tooltips. \n",
    "\n",
    "Some thoughts from looking at these plots:\n",
    "- There appears to be a visual pattern in the hourly and day_of_week breakdowns. \n",
    "- There is an influx of tweets earlier in the day, with a lower proportion of questionable content being posted during that time. \n",
    "- Additionally, the percentage of questionable content has dropped off in the past two years despite a higher tweet counts.\n",
    "\n",
    "Ultimately, we would need to dive in to the data collection methods, timestamps relative to user's timezone, etc., before this information would be more useful to us."
   ]
  },
  {
   "cell_type": "code",
   "execution_count": 13,
   "metadata": {},
   "outputs": [
    {
     "data": {
      "text/plain": [
       "<matplotlib.axes._subplots.AxesSubplot at 0x1a2225c390>"
      ]
     },
     "execution_count": 13,
     "metadata": {},
     "output_type": "execute_result"
    },
    {
     "data": {
      "image/png": "[encoded data removed]",
      "text/plain": [
       "<Figure size 432x288 with 2 Axes>"
      ]
     },
     "metadata": {
      "needs_background": "light"
     },
     "output_type": "display_data"
    }
   ],
   "source": [
    "sns.heatmap(tweets.corr())"
   ]
  },
  {
   "cell_type": "markdown",
   "metadata": {},
   "source": [
    "No real correlations with different time scales and label."
   ]
  },
  {
   "cell_type": "markdown",
   "metadata": {},
   "source": [
    "**Baseline Model**"
   ]
  },
  {
   "cell_type": "markdown",
   "metadata": {},
   "source": [
    "Define the X and y variables, split them up into training and testing sets. Split maintains the class balance in the y variable."
   ]
  },
  {
   "cell_type": "code",
   "execution_count": 14,
   "metadata": {},
   "outputs": [],
   "source": [
    "X = tweets['text']\n",
    "y = tweets['questionable_content']\n",
    "\n",
    "# stratify on y variable\n",
    "X_train, X_test, y_train, y_test = train_test_split(X, y, test_size = .25, stratify = y, random_state = 23)"
   ]
  },
  {
   "cell_type": "markdown",
   "metadata": {},
   "source": [
    "Instantiate a stock count vectorizer to build a simple model based on word counts."
   ]
  },
  {
   "cell_type": "code",
   "execution_count": 15,
   "metadata": {},
   "outputs": [],
   "source": [
    "cvec = CountVectorizer()\n",
    "\n",
    "X_train_cvec = cvec.fit_transform(X_train)\n",
    "X_test_cvec = cvec.transform(X_test)"
   ]
  },
  {
   "cell_type": "code",
   "execution_count": 16,
   "metadata": {},
   "outputs": [
    {
     "data": {
      "text/html": [
       "<div>\n",
       "<style scoped>\n",
       "    .dataframe tbody tr th:only-of-type {\n",
       "        vertical-align: middle;\n",
       "    }\n",
       "\n",
       "    .dataframe tbody tr th {\n",
       "        vertical-align: top;\n",
       "    }\n",
       "\n",
       "    .dataframe thead th {\n",
       "        text-align: right;\n",
       "    }\n",
       "</style>\n",
       "<table border=\"1\" class=\"dataframe\">\n",
       "  <thead>\n",
       "    <tr style=\"text-align: right;\">\n",
       "      <th></th>\n",
       "      <th>00</th>\n",
       "      <th>000</th>\n",
       "      <th>00003</th>\n",
       "      <th>000th</th>\n",
       "      <th>001</th>\n",
       "      <th>003</th>\n",
       "      <th>006</th>\n",
       "      <th>007notabroadwaystar</th>\n",
       "      <th>00pm</th>\n",
       "      <th>01</th>\n",
       "      <th>...</th>\n",
       "      <th>सरक</th>\n",
       "      <th>イノベーションとは発明なのです</th>\n",
       "      <th>イノベーションは私たちがもう一度生み出さなければならないものです</th>\n",
       "      <th>イノベーションを通してしかチャンスはありません</th>\n",
       "      <th>マルゲリ氏</th>\n",
       "      <th>上海</th>\n",
       "      <th>兢兢占占</th>\n",
       "      <th>凯德龙之梦</th>\n",
       "      <th>吉原店</th>\n",
       "      <th>新加坡</th>\n",
       "    </tr>\n",
       "  </thead>\n",
       "  <tbody>\n",
       "    <tr>\n",
       "      <th>0</th>\n",
       "      <td>0</td>\n",
       "      <td>0</td>\n",
       "      <td>0</td>\n",
       "      <td>0</td>\n",
       "      <td>0</td>\n",
       "      <td>0</td>\n",
       "      <td>0</td>\n",
       "      <td>0</td>\n",
       "      <td>0</td>\n",
       "      <td>0</td>\n",
       "      <td>...</td>\n",
       "      <td>0</td>\n",
       "      <td>0</td>\n",
       "      <td>0</td>\n",
       "      <td>0</td>\n",
       "      <td>0</td>\n",
       "      <td>0</td>\n",
       "      <td>0</td>\n",
       "      <td>0</td>\n",
       "      <td>0</td>\n",
       "      <td>0</td>\n",
       "    </tr>\n",
       "    <tr>\n",
       "      <th>1</th>\n",
       "      <td>0</td>\n",
       "      <td>0</td>\n",
       "      <td>0</td>\n",
       "      <td>0</td>\n",
       "      <td>0</td>\n",
       "      <td>0</td>\n",
       "      <td>0</td>\n",
       "      <td>0</td>\n",
       "      <td>0</td>\n",
       "      <td>0</td>\n",
       "      <td>...</td>\n",
       "      <td>0</td>\n",
       "      <td>0</td>\n",
       "      <td>0</td>\n",
       "      <td>0</td>\n",
       "      <td>0</td>\n",
       "      <td>0</td>\n",
       "      <td>0</td>\n",
       "      <td>0</td>\n",
       "      <td>0</td>\n",
       "      <td>0</td>\n",
       "    </tr>\n",
       "    <tr>\n",
       "      <th>2</th>\n",
       "      <td>0</td>\n",
       "      <td>0</td>\n",
       "      <td>0</td>\n",
       "      <td>0</td>\n",
       "      <td>0</td>\n",
       "      <td>0</td>\n",
       "      <td>0</td>\n",
       "      <td>0</td>\n",
       "      <td>0</td>\n",
       "      <td>0</td>\n",
       "      <td>...</td>\n",
       "      <td>0</td>\n",
       "      <td>0</td>\n",
       "      <td>0</td>\n",
       "      <td>0</td>\n",
       "      <td>0</td>\n",
       "      <td>0</td>\n",
       "      <td>0</td>\n",
       "      <td>0</td>\n",
       "      <td>0</td>\n",
       "      <td>0</td>\n",
       "    </tr>\n",
       "    <tr>\n",
       "      <th>3</th>\n",
       "      <td>0</td>\n",
       "      <td>0</td>\n",
       "      <td>0</td>\n",
       "      <td>0</td>\n",
       "      <td>0</td>\n",
       "      <td>0</td>\n",
       "      <td>0</td>\n",
       "      <td>0</td>\n",
       "      <td>0</td>\n",
       "      <td>0</td>\n",
       "      <td>...</td>\n",
       "      <td>0</td>\n",
       "      <td>0</td>\n",
       "      <td>0</td>\n",
       "      <td>0</td>\n",
       "      <td>0</td>\n",
       "      <td>0</td>\n",
       "      <td>0</td>\n",
       "      <td>0</td>\n",
       "      <td>0</td>\n",
       "      <td>0</td>\n",
       "    </tr>\n",
       "    <tr>\n",
       "      <th>4</th>\n",
       "      <td>0</td>\n",
       "      <td>0</td>\n",
       "      <td>0</td>\n",
       "      <td>0</td>\n",
       "      <td>0</td>\n",
       "      <td>0</td>\n",
       "      <td>0</td>\n",
       "      <td>0</td>\n",
       "      <td>0</td>\n",
       "      <td>0</td>\n",
       "      <td>...</td>\n",
       "      <td>0</td>\n",
       "      <td>0</td>\n",
       "      <td>0</td>\n",
       "      <td>0</td>\n",
       "      <td>0</td>\n",
       "      <td>0</td>\n",
       "      <td>0</td>\n",
       "      <td>0</td>\n",
       "      <td>0</td>\n",
       "      <td>0</td>\n",
       "    </tr>\n",
       "  </tbody>\n",
       "</table>\n",
       "<p>5 rows × 35601 columns</p>\n",
       "</div>"
      ],
      "text/plain": [
       "   00  000  00003  000th  001  003  006  007notabroadwaystar  00pm  01 ...   \\\n",
       "0   0    0      0      0    0    0    0                    0     0   0 ...    \n",
       "1   0    0      0      0    0    0    0                    0     0   0 ...    \n",
       "2   0    0      0      0    0    0    0                    0     0   0 ...    \n",
       "3   0    0      0      0    0    0    0                    0     0   0 ...    \n",
       "4   0    0      0      0    0    0    0                    0     0   0 ...    \n",
       "\n",
       "   सरक  イノベーションとは発明なのです  イノベーションは私たちがもう一度生み出さなければならないものです  \\\n",
       "0    0                0                                 0   \n",
       "1    0                0                                 0   \n",
       "2    0                0                                 0   \n",
       "3    0                0                                 0   \n",
       "4    0                0                                 0   \n",
       "\n",
       "   イノベーションを通してしかチャンスはありません  マルゲリ氏  上海  兢兢占占  凯德龙之梦  吉原店  新加坡  \n",
       "0                        0      0   0     0      0    0    0  \n",
       "1                        0      0   0     0      0    0    0  \n",
       "2                        0      0   0     0      0    0    0  \n",
       "3                        0      0   0     0      0    0    0  \n",
       "4                        0      0   0     0      0    0    0  \n",
       "\n",
       "[5 rows x 35601 columns]"
      ]
     },
     "execution_count": 16,
     "metadata": {},
     "output_type": "execute_result"
    }
   ],
   "source": [
    "# create a dataframe out of the vectorized test data\n",
    "vec_feats = pd.DataFrame(X_test_cvec.todense(), columns = cvec.get_feature_names())\n",
    "\n",
    "# inspect\n",
    "vec_feats.head()"
   ]
  },
  {
   "cell_type": "markdown",
   "metadata": {},
   "source": [
    "We will want to scrub the non-english tweets later on as well.\n",
    "\n",
    "Lets create a few different models and see how they do. Use the `%%time` magic command to get some efficiency info."
   ]
  },
  {
   "cell_type": "code",
   "execution_count": 17,
   "metadata": {},
   "outputs": [
    {
     "name": "stdout",
     "output_type": "stream",
     "text": [
      "CPU times: user 8.84 s, sys: 25.3 ms, total: 8.87 s\n",
      "Wall time: 8.87 s\n"
     ]
    }
   ],
   "source": [
    "%%time\n",
    "rfc = RandomForestClassifier(random_state = 23, n_estimators=50)\n",
    "rfc.fit(X_train_cvec, y_train)"
   ]
  },
  {
   "cell_type": "code",
   "execution_count": 18,
   "metadata": {},
   "outputs": [
    {
     "name": "stdout",
     "output_type": "stream",
     "text": [
      "Train Score:  0.9984799659512373\n",
      "Test Score:  0.9337953674995441\n"
     ]
    }
   ],
   "source": [
    "print('Train Score: ', rfc.score(X_train_cvec, y_train))\n",
    "print('Test Score: ', rfc.score(X_test_cvec, y_test))"
   ]
  },
  {
   "cell_type": "markdown",
   "metadata": {},
   "source": [
    "After 2 seconds, we get a fairly 'accurate' model, but we aren't concerned with accuracy. Since we are trying to limit false negatives, we want to maximize recall. Let's dig deeper.  "
   ]
  },
  {
   "cell_type": "code",
   "execution_count": 19,
   "metadata": {},
   "outputs": [
    {
     "name": "stdout",
     "output_type": "stream",
     "text": [
      "              precision    recall  f1-score   support\n",
      "\n",
      "           0       0.94      0.99      0.96      4758\n",
      "           1       0.90      0.57      0.69       725\n",
      "\n",
      "   micro avg       0.93      0.93      0.93      5483\n",
      "   macro avg       0.92      0.78      0.83      5483\n",
      "weighted avg       0.93      0.93      0.93      5483\n",
      "\n",
      "---\n"
     ]
    },
    {
     "data": {
      "text/plain": [
       "array([[4710,   48],\n",
       "       [ 315,  410]])"
      ]
     },
     "execution_count": 19,
     "metadata": {},
     "output_type": "execute_result"
    }
   ],
   "source": [
    "# use the classification report function for more classification metrics\n",
    "print(classification_report(y_test, rfc.predict(X_test_cvec)))\n",
    "print('---')\n",
    "confusion_matrix(y_test, rfc.predict(X_test_cvec))"
   ]
  },
  {
   "cell_type": "markdown",
   "metadata": {},
   "source": [
    "Recall of .57 means we are only correctly questionable tweets 57% of the time. We can do better. As we see in the confusion matrix, 315 of the 725 questionable tweets in the test set were incorrectly labled as not questionable.\n",
    "\n",
    "Let's see what our model is using to predict."
   ]
  },
  {
   "cell_type": "code",
   "execution_count": 20,
   "metadata": {},
   "outputs": [
    {
     "data": {
      "text/plain": [
       "<matplotlib.axes._subplots.AxesSubplot at 0x1a21c21438>"
      ]
     },
     "execution_count": 20,
     "metadata": {},
     "output_type": "execute_result"
    },
    {
     "data": {
      "image/png": "[encoded data removed]",
      "text/plain": [
       "<Figure size 864x504 with 1 Axes>"
      ]
     },
     "metadata": {
      "needs_background": "light"
     },
     "output_type": "display_data"
    }
   ],
   "source": [
    "# get feature importances from the model, plot\n",
    "pd.DataFrame(\n",
    "    rfc.feature_importances_, \n",
    "    index=cvec.get_feature_names()\n",
    ").sort_values(by=0, ascending=False).head(20).plot(kind='barh', figsize=(12,7))"
   ]
  },
  {
   "cell_type": "markdown",
   "metadata": {},
   "source": [
    "The presence of common curse words and racial slurs are good indicators of a questionable tweet. Now a boosted model, to see if we can avoid the RFC's overfitting and improve sensitivity. "
   ]
  },
  {
   "cell_type": "code",
   "execution_count": 21,
   "metadata": {},
   "outputs": [
    {
     "name": "stdout",
     "output_type": "stream",
     "text": [
      "CPU times: user 870 ms, sys: 5.7 ms, total: 876 ms\n",
      "Wall time: 875 ms\n"
     ]
    }
   ],
   "source": [
    "%%time\n",
    "abc = AdaBoostClassifier(n_estimators=50)\n",
    "abc.fit(X_train_cvec, y_train)"
   ]
  },
  {
   "cell_type": "code",
   "execution_count": 22,
   "metadata": {},
   "outputs": [
    {
     "name": "stdout",
     "output_type": "stream",
     "text": [
      "              precision    recall  f1-score   support\n",
      "\n",
      "           0       0.94      0.99      0.96      4758\n",
      "           1       0.92      0.57      0.70       725\n",
      "\n",
      "   micro avg       0.94      0.94      0.94      5483\n",
      "   macro avg       0.93      0.78      0.83      5483\n",
      "weighted avg       0.94      0.94      0.93      5483\n",
      "\n",
      "---\n"
     ]
    },
    {
     "data": {
      "text/plain": [
       "array([[4722,   36],\n",
       "       [ 315,  410]])"
      ]
     },
     "execution_count": 22,
     "metadata": {},
     "output_type": "execute_result"
    }
   ],
   "source": [
    "print(classification_report(y_test, abc.predict(X_test_cvec)))\n",
    "print('---')\n",
    "confusion_matrix(y_test, abc.predict(X_test_cvec))"
   ]
  },
  {
   "cell_type": "markdown",
   "metadata": {},
   "source": [
    "Better accuracy, same recall, fit time was 1/10th the RandomForest's. "
   ]
  },
  {
   "cell_type": "code",
   "execution_count": 23,
   "metadata": {},
   "outputs": [
    {
     "data": {
      "text/plain": [
       "<matplotlib.axes._subplots.AxesSubplot at 0x1a21bb59e8>"
      ]
     },
     "execution_count": 23,
     "metadata": {},
     "output_type": "execute_result"
    },
    {
     "data": {
      "image/png": "[encoded data removed]",
      "text/plain": [
       "<Figure size 864x504 with 1 Axes>"
      ]
     },
     "metadata": {
      "needs_background": "light"
     },
     "output_type": "display_data"
    }
   ],
   "source": [
    "pd.DataFrame(abc.feature_importances_, index=cvec.get_feature_names()).sort_values(by=0, ascending=False).head(20).plot(kind='barh', figsize=(12,7))"
   ]
  },
  {
   "cell_type": "markdown",
   "metadata": {},
   "source": [
    "Similar features, we will use this info for our feature engineering. We will now plot a roc curve to check if playing with our probability thresholds can help us tune."
   ]
  },
  {
   "cell_type": "code",
   "execution_count": 25,
   "metadata": {},
   "outputs": [
    {
     "data": {
      "image/png": "[encoded data removed]",
      "text/plain": [
       "<Figure size 432x288 with 1 Axes>"
      ]
     },
     "metadata": {
      "needs_background": "light"
     },
     "output_type": "display_data"
    },
    {
     "data": {
      "text/plain": [
       "0.9283726433361733"
      ]
     },
     "execution_count": 25,
     "metadata": {},
     "output_type": "execute_result"
    }
   ],
   "source": [
    "# custom roc curve function (need to add auc score)\n",
    "roc_plot(abc.predict_proba(X_test_cvec), y_test)\n",
    "roc_auc_score(abc.predict(X_test_cvec), y_test)"
   ]
  },
  {
   "cell_type": "markdown",
   "metadata": {},
   "source": [
    "This curve shows that we have a steep false positive slope, meaning we will get dramatically more false positives as we tune the probability threshold for recall (sensitivity). In our context, we don't mind more tweets to review if it means less get through the filter. "
   ]
  },
  {
   "cell_type": "markdown",
   "metadata": {},
   "source": [
    "Now that we have a grip on what is going on, let's dive in to some [feature engineering and modeling](./Data-Prep-and-Feature-Extraction.ipynb)"
   ]
  }
 ],
 "metadata": {
  "kernelspec": {
   "display_name": "Python 3",
   "language": "python",
   "name": "python3"
  },
  "language_info": {
   "codemirror_mode": {
    "name": "ipython",
    "version": 3
   },
   "file_extension": ".py",
   "mimetype": "text/x-python",
   "name": "python",
   "nbconvert_exporter": "python",
   "pygments_lexer": "ipython3",
   "version": "3.6.6"
  }
 },
 "nbformat": 4,
 "nbformat_minor": 2
}
